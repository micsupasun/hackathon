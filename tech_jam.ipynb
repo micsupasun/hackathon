{
  "nbformat": 4,
  "nbformat_minor": 0,
  "metadata": {
    "colab": {
      "provenance": [],
      "toc_visible": true
    },
    "kernelspec": {
      "name": "python3",
      "display_name": "Python 3"
    }
  },
  "cells": [
    {
      "cell_type": "markdown",
      "metadata": {
        "id": "q3Do2u8_nbey"
      },
      "source": [
        "# **Import Library**"
      ]
    },
    {
      "cell_type": "code",
      "metadata": {
        "id": "NiLM6p-QnQ42"
      },
      "source": [
        "import pandas as pd\n",
        "import numpy as np\n",
        "import random\n",
        "from xgboost.sklearn import XGBRegressor\n",
        "from sklearn.ensemble import GradientBoostingRegressor, RandomForestRegressor\n",
        "from sklearn.preprocessing import StandardScaler\n",
        "from sklearn.model_selection import GridSearchCV\n",
        "from IPython.display import display\n",
        "import itertools"
      ],
      "execution_count": null,
      "outputs": []
    },
    {
      "cell_type": "markdown",
      "metadata": {
        "id": "jmlc2APMnjyD"
      },
      "source": [
        "# **Import Data**"
      ]
    },
    {
      "cell_type": "code",
      "metadata": {
        "id": "C1-UgBN6nabh",
        "outputId": "2d3573b4-83fd-4f3f-b143-d52e958a45f6",
        "colab": {
          "base_uri": "https://localhost:8080/",
          "height": 34
        }
      },
      "source": [
        "from google.colab import drive\n",
        "drive.mount('/content/drive')"
      ],
      "execution_count": null,
      "outputs": [
        {
          "output_type": "stream",
          "text": [
            "Drive already mounted at /content/drive; to attempt to forcibly remount, call drive.mount(\"/content/drive\", force_remount=True).\n"
          ],
          "name": "stdout"
        }
      ]
    },
    {
      "cell_type": "code",
      "metadata": {
        "id": "YwGWrJHsnag1"
      },
      "source": [
        "df_cc = pd.read_csv(\"/content/drive/My Drive/work/kbank/cc.csv\", parse_dates=['pos_dt'])\n",
        "df_demographics = pd.read_csv(\"/content/drive/My Drive/work/kbank/demographics.csv\")\n",
        "df_kplus = pd.read_csv(\"/content/drive/My Drive/work/kbank/kplus.csv\", parse_dates=['sunday'])\n",
        "df_test = pd.read_csv(\"/content/drive/My Drive/work/kbank/test.csv\")\n",
        "df_train = pd.read_csv(\"/content/drive/My Drive/work/kbank/train.csv\")"
      ],
      "execution_count": null,
      "outputs": []
    },
    {
      "cell_type": "markdown",
      "metadata": {
        "id": "76l339I_nuqZ"
      },
      "source": [
        "# **Suyvey Data**"
      ]
    },
    {
      "cell_type": "code",
      "metadata": {
        "id": "pq1bpZ7Nnamg",
        "outputId": "95556c6c-d59e-4f30-b6c3-cfe5f3413c35",
        "colab": {
          "base_uri": "https://localhost:8080/",
          "height": 111
        }
      },
      "source": [
        "df_cc.head(2)"
      ],
      "execution_count": null,
      "outputs": [
        {
          "output_type": "execute_result",
          "data": {
            "text/html": [
              "<div>\n",
              "<style scoped>\n",
              "    .dataframe tbody tr th:only-of-type {\n",
              "        vertical-align: middle;\n",
              "    }\n",
              "\n",
              "    .dataframe tbody tr th {\n",
              "        vertical-align: top;\n",
              "    }\n",
              "\n",
              "    .dataframe thead th {\n",
              "        text-align: right;\n",
              "    }\n",
              "</style>\n",
              "<table border=\"1\" class=\"dataframe\">\n",
              "  <thead>\n",
              "    <tr style=\"text-align: right;\">\n",
              "      <th></th>\n",
              "      <th>cc_no</th>\n",
              "      <th>pos_dt</th>\n",
              "      <th>cc_txn_amt</th>\n",
              "    </tr>\n",
              "  </thead>\n",
              "  <tbody>\n",
              "    <tr>\n",
              "      <th>0</th>\n",
              "      <td>37069</td>\n",
              "      <td>2018-05-10</td>\n",
              "      <td>5000</td>\n",
              "    </tr>\n",
              "    <tr>\n",
              "      <th>1</th>\n",
              "      <td>37069</td>\n",
              "      <td>2018-06-04</td>\n",
              "      <td>12000</td>\n",
              "    </tr>\n",
              "  </tbody>\n",
              "</table>\n",
              "</div>"
            ],
            "text/plain": [
              "   cc_no     pos_dt  cc_txn_amt\n",
              "0  37069 2018-05-10        5000\n",
              "1  37069 2018-06-04       12000"
            ]
          },
          "metadata": {
            "tags": []
          },
          "execution_count": 4
        }
      ]
    },
    {
      "cell_type": "code",
      "metadata": {
        "id": "rnsZLBi5nasA",
        "outputId": "dcbf1798-749c-4a32-cc37-4ac94d6d5035",
        "colab": {
          "base_uri": "https://localhost:8080/",
          "height": 111
        }
      },
      "source": [
        "df_demographics.head(2)"
      ],
      "execution_count": null,
      "outputs": [
        {
          "output_type": "execute_result",
          "data": {
            "text/html": [
              "<div>\n",
              "<style scoped>\n",
              "    .dataframe tbody tr th:only-of-type {\n",
              "        vertical-align: middle;\n",
              "    }\n",
              "\n",
              "    .dataframe tbody tr th {\n",
              "        vertical-align: top;\n",
              "    }\n",
              "\n",
              "    .dataframe thead th {\n",
              "        text-align: right;\n",
              "    }\n",
              "</style>\n",
              "<table border=\"1\" class=\"dataframe\">\n",
              "  <thead>\n",
              "    <tr style=\"text-align: right;\">\n",
              "      <th></th>\n",
              "      <th>id</th>\n",
              "      <th>cc_no</th>\n",
              "      <th>gender</th>\n",
              "      <th>ocp_cd</th>\n",
              "      <th>age</th>\n",
              "    </tr>\n",
              "  </thead>\n",
              "  <tbody>\n",
              "    <tr>\n",
              "      <th>0</th>\n",
              "      <td>1</td>\n",
              "      <td>1</td>\n",
              "      <td>2</td>\n",
              "      <td>9.0</td>\n",
              "      <td>5</td>\n",
              "    </tr>\n",
              "    <tr>\n",
              "      <th>1</th>\n",
              "      <td>1</td>\n",
              "      <td>98397</td>\n",
              "      <td>2</td>\n",
              "      <td>9.0</td>\n",
              "      <td>5</td>\n",
              "    </tr>\n",
              "  </tbody>\n",
              "</table>\n",
              "</div>"
            ],
            "text/plain": [
              "   id  cc_no  gender  ocp_cd  age\n",
              "0   1      1       2     9.0    5\n",
              "1   1  98397       2     9.0    5"
            ]
          },
          "metadata": {
            "tags": []
          },
          "execution_count": 5
        }
      ]
    },
    {
      "cell_type": "code",
      "metadata": {
        "id": "ijhzq0Z-naxi",
        "outputId": "7d93bbb8-3266-477d-9eb5-e828b0cd9c00",
        "colab": {
          "base_uri": "https://localhost:8080/",
          "height": 111
        }
      },
      "source": [
        "df_kplus.head(2)"
      ],
      "execution_count": null,
      "outputs": [
        {
          "output_type": "execute_result",
          "data": {
            "text/html": [
              "<div>\n",
              "<style scoped>\n",
              "    .dataframe tbody tr th:only-of-type {\n",
              "        vertical-align: middle;\n",
              "    }\n",
              "\n",
              "    .dataframe tbody tr th {\n",
              "        vertical-align: top;\n",
              "    }\n",
              "\n",
              "    .dataframe thead th {\n",
              "        text-align: right;\n",
              "    }\n",
              "</style>\n",
              "<table border=\"1\" class=\"dataframe\">\n",
              "  <thead>\n",
              "    <tr style=\"text-align: right;\">\n",
              "      <th></th>\n",
              "      <th>id</th>\n",
              "      <th>sunday</th>\n",
              "      <th>kp_txn_count</th>\n",
              "      <th>kp_txn_amt</th>\n",
              "    </tr>\n",
              "  </thead>\n",
              "  <tbody>\n",
              "    <tr>\n",
              "      <th>0</th>\n",
              "      <td>14802</td>\n",
              "      <td>2018-01-14</td>\n",
              "      <td>2</td>\n",
              "      <td>2400</td>\n",
              "    </tr>\n",
              "    <tr>\n",
              "      <th>1</th>\n",
              "      <td>14802</td>\n",
              "      <td>2018-04-01</td>\n",
              "      <td>9</td>\n",
              "      <td>33900</td>\n",
              "    </tr>\n",
              "  </tbody>\n",
              "</table>\n",
              "</div>"
            ],
            "text/plain": [
              "      id     sunday  kp_txn_count  kp_txn_amt\n",
              "0  14802 2018-01-14             2        2400\n",
              "1  14802 2018-04-01             9       33900"
            ]
          },
          "metadata": {
            "tags": []
          },
          "execution_count": 6
        }
      ]
    },
    {
      "cell_type": "code",
      "metadata": {
        "id": "mAhzr7swna3I",
        "outputId": "da618928-0fe4-4b98-889d-9d251cb9da09",
        "colab": {
          "base_uri": "https://localhost:8080/",
          "height": 299
        }
      },
      "source": [
        "display(df_train.head(2))\n",
        "display(df_train.tail(2))\n",
        "df_test.head(2)"
      ],
      "execution_count": null,
      "outputs": [
        {
          "output_type": "display_data",
          "data": {
            "text/html": [
              "<div>\n",
              "<style scoped>\n",
              "    .dataframe tbody tr th:only-of-type {\n",
              "        vertical-align: middle;\n",
              "    }\n",
              "\n",
              "    .dataframe tbody tr th {\n",
              "        vertical-align: top;\n",
              "    }\n",
              "\n",
              "    .dataframe thead th {\n",
              "        text-align: right;\n",
              "    }\n",
              "</style>\n",
              "<table border=\"1\" class=\"dataframe\">\n",
              "  <thead>\n",
              "    <tr style=\"text-align: right;\">\n",
              "      <th></th>\n",
              "      <th>id</th>\n",
              "      <th>income</th>\n",
              "    </tr>\n",
              "  </thead>\n",
              "  <tbody>\n",
              "    <tr>\n",
              "      <th>0</th>\n",
              "      <td>1</td>\n",
              "      <td>20000</td>\n",
              "    </tr>\n",
              "    <tr>\n",
              "      <th>1</th>\n",
              "      <td>2</td>\n",
              "      <td>106000</td>\n",
              "    </tr>\n",
              "  </tbody>\n",
              "</table>\n",
              "</div>"
            ],
            "text/plain": [
              "   id  income\n",
              "0   1   20000\n",
              "1   2  106000"
            ]
          },
          "metadata": {
            "tags": []
          }
        },
        {
          "output_type": "display_data",
          "data": {
            "text/html": [
              "<div>\n",
              "<style scoped>\n",
              "    .dataframe tbody tr th:only-of-type {\n",
              "        vertical-align: middle;\n",
              "    }\n",
              "\n",
              "    .dataframe tbody tr th {\n",
              "        vertical-align: top;\n",
              "    }\n",
              "\n",
              "    .dataframe thead th {\n",
              "        text-align: right;\n",
              "    }\n",
              "</style>\n",
              "<table border=\"1\" class=\"dataframe\">\n",
              "  <thead>\n",
              "    <tr style=\"text-align: right;\">\n",
              "      <th></th>\n",
              "      <th>id</th>\n",
              "      <th>income</th>\n",
              "    </tr>\n",
              "  </thead>\n",
              "  <tbody>\n",
              "    <tr>\n",
              "      <th>49998</th>\n",
              "      <td>49999</td>\n",
              "      <td>13000</td>\n",
              "    </tr>\n",
              "    <tr>\n",
              "      <th>49999</th>\n",
              "      <td>50000</td>\n",
              "      <td>21000</td>\n",
              "    </tr>\n",
              "  </tbody>\n",
              "</table>\n",
              "</div>"
            ],
            "text/plain": [
              "          id  income\n",
              "49998  49999   13000\n",
              "49999  50000   21000"
            ]
          },
          "metadata": {
            "tags": []
          }
        },
        {
          "output_type": "execute_result",
          "data": {
            "text/html": [
              "<div>\n",
              "<style scoped>\n",
              "    .dataframe tbody tr th:only-of-type {\n",
              "        vertical-align: middle;\n",
              "    }\n",
              "\n",
              "    .dataframe tbody tr th {\n",
              "        vertical-align: top;\n",
              "    }\n",
              "\n",
              "    .dataframe thead th {\n",
              "        text-align: right;\n",
              "    }\n",
              "</style>\n",
              "<table border=\"1\" class=\"dataframe\">\n",
              "  <thead>\n",
              "    <tr style=\"text-align: right;\">\n",
              "      <th></th>\n",
              "      <th>id</th>\n",
              "    </tr>\n",
              "  </thead>\n",
              "  <tbody>\n",
              "    <tr>\n",
              "      <th>0</th>\n",
              "      <td>50001</td>\n",
              "    </tr>\n",
              "    <tr>\n",
              "      <th>1</th>\n",
              "      <td>50002</td>\n",
              "    </tr>\n",
              "  </tbody>\n",
              "</table>\n",
              "</div>"
            ],
            "text/plain": [
              "      id\n",
              "0  50001\n",
              "1  50002"
            ]
          },
          "metadata": {
            "tags": []
          },
          "execution_count": 7
        }
      ]
    },
    {
      "cell_type": "code",
      "metadata": {
        "id": "4n0LY0_0na9X"
      },
      "source": [
        "# fill NA ocp_cd\n",
        "ocp_cd_na_idxs = df_demographics[df_demographics.ocp_cd.isna()].index.tolist()\n",
        "\n",
        "df_demographics.loc[ocp_cd_na_idxs, 'ocp_cd'] = 2\n"
      ],
      "execution_count": null,
      "outputs": []
    },
    {
      "cell_type": "markdown",
      "metadata": {
        "id": "icOJNV83n2Mx"
      },
      "source": [
        "# **Create Features**"
      ]
    },
    {
      "cell_type": "code",
      "metadata": {
        "id": "qj4lzj58na6v"
      },
      "source": [
        "def get_raw_features():\n",
        "    demo = df_demographics.drop('cc_no', axis=1)\n",
        "    demo.drop_duplicates(inplace=True)\n",
        "    demo = demo.reset_index()\n",
        "    demo.drop('index', axis=1,inplace=True)\n",
        "    for index in demo[demo['ocp_cd'].isna()].index:\n",
        "        demo.iloc[index, 2] = random.choice(range(1, 14))\n",
        "    return demo"
      ],
      "execution_count": null,
      "outputs": []
    },
    {
      "cell_type": "code",
      "metadata": {
        "id": "hhTBpFo0na0_"
      },
      "source": [
        "def get_num_card_feature():\n",
        "    return df_demographics['id'].value_counts().sort_index().reset_index().rename({'id':  'num_cards'}, axis=1).drop('index', axis=1)"
      ],
      "execution_count": null,
      "outputs": []
    },
    {
      "cell_type": "code",
      "metadata": {
        "id": "zOmiWzornavW"
      },
      "source": [
        "def get_kplus_monthly_features():\n",
        "    kplus_copy = df_kplus.copy()\n",
        "    kplus_copy['month'] = kplus_copy['sunday'].dt.month\n",
        "    out_df = pd.DataFrame(range(1, 65001), columns=['id'])\n",
        "    g = kplus_copy.groupby(['id', 'month',]).sum().reset_index()\n",
        "    month_dict = {\n",
        "        1: 'jan',\n",
        "        2: 'feb',\n",
        "        3: 'mar',\n",
        "        4: 'apr',\n",
        "        5: 'may',\n",
        "        6: 'jun',\n",
        "    }\n",
        "    for index, month in month_dict.items():\n",
        "        tmp = g[g['month'] == index].drop('month', axis=1).rename({'kp_txn_count': f'kp_cnt_{month}', 'kp_txn_amt': f'kp_amt_{month}'}, axis=1)\n",
        "        out_df = out_df.merge(tmp, how='outer')\n",
        "        out_df.fillna(0, inplace=True)\n",
        "    return out_df"
      ],
      "execution_count": null,
      "outputs": []
    },
    {
      "cell_type": "code",
      "metadata": {
        "id": "hKrYDTcKnaqF"
      },
      "source": [
        "def get_cc_monthly_features():\n",
        "    cc_no2id = {int(row['cc_no']): int(row['id']) for _, row in df_demographics.iterrows()}\n",
        "    cc = df_cc.copy()\n",
        "    cc['month'] = cc['pos_dt'].dt.month\n",
        "    k = cc.groupby(['cc_no', 'month']).sum().reset_index()\n",
        "    out_df = pd.DataFrame(range(1, 65001), columns=['id'])\n",
        "    month_dict = {\n",
        "            1: 'jan',\n",
        "            2: 'feb',\n",
        "            3: 'mar',\n",
        "            4: 'apr',\n",
        "            5: 'may',\n",
        "            6: 'jun',\n",
        "    }\n",
        "    for index, month in month_dict.items():\n",
        "        tmp = k[k['month'] == index].drop('month', axis=1).rename({'cc_txn_amt': f'cc_amt_{month}'}, axis=1)\n",
        "        tmp['id'] = tmp['cc_no'].map(lambda x: cc_no2id[x])\n",
        "        tmp.drop(['cc_no'], axis=1, inplace=True)\n",
        "        tmp = tmp.groupby('id').sum().reset_index()\n",
        "        out_df = out_df.merge(tmp, how='outer')\n",
        "    out_df.fillna(0, inplace=True)\n",
        "    return out_df"
      ],
      "execution_count": null,
      "outputs": []
    },
    {
      "cell_type": "code",
      "metadata": {
        "id": "SSH4g8wvnakM"
      },
      "source": [
        "def get_cc_features():\n",
        "    out_df = pd.DataFrame(range(1, 65001), columns=['id'])\n",
        "    cc_no2id = {cc: id_ for cc, id_ in  zip(df_demographics['cc_no'], df_demographics['id'])}\n",
        "    cc = df_cc.copy()\n",
        "    cc['id'] = cc['cc_no'].map(cc_no2id)\n",
        "    cc['count'] = 1\n",
        "    cc.drop('cc_no', axis=1, inplace=True)\n",
        "    cc_sum = cc.groupby(['id']).sum().reset_index().rename({'cc_txn_amt': 'cc_amt_sum'},axis=1)\n",
        "    cc_sum['cc_cmt_avg_per_cnt'] = cc_sum['cc_amt_sum'] / cc_sum['count']\n",
        "\n",
        "    cc_mean = cc.groupby(['id']).mean().reset_index().rename({'cc_txn_amt': 'cc_amt_mean'},axis=1)\n",
        "\n",
        "    cc_max = cc.groupby(['id']).max().reset_index().rename({'cc_txn_amt': 'cc_amt_max'},axis=1)\n",
        "\n",
        "    cc_min = cc.groupby(['id']).min().reset_index().rename({'cc_txn_amt': 'cc_amt_min'},axis=1)\n",
        "\n",
        "    cc_std = cc.groupby(['id']).std().reset_index().rename({'cc_txn_amt': 'cc_amt_std'},axis=1)\n",
        "    features = [cc_sum, cc_mean, cc_max, cc_min, cc_std]\n",
        "    for feat in features:\n",
        "        if 'count' in feat.columns:\n",
        "            feat.drop(columns='count',inplace=True)\n",
        "        if 'pos_dt' in feat.columns:\n",
        "            feat.drop(columns='pos_dt',inplace=True)\n",
        "\n",
        "        out_df = pd.merge(out_df, feat, on='id', how='outer')\n",
        "    out_df.fillna(0, inplace=True)\n",
        "    return out_df"
      ],
      "execution_count": null,
      "outputs": []
    },
    {
      "cell_type": "code",
      "metadata": {
        "id": "HRv8sXxJnaeO"
      },
      "source": [
        "def get_fwotm_features():\n",
        "    fwotm = ['2018-01-07', '2018-02-04', '2018-03-04', '2018-04-01', '2018-05-06', '2018-06-03']\n",
        "    df_kplus['month'] = df_kplus['sunday'].dt.month\n",
        "    out_df = pd.DataFrame(range(1, 65001), columns=['id'])\n",
        "    for date in fwotm:\n",
        "        tmp = df_kplus[df_kplus['sunday'] == date]\n",
        "        tmp = tmp.groupby('id').sum().drop('month', axis=1).reset_index().rename({'kp_txn_count': f'kp_cnt_{date}', 'kp_txn_amt': f'kplus_amt_{date}'}, axis=1)\n",
        "        out_df = out_df.merge(tmp, how='outer')\n",
        "    out_df.fillna(0, inplace=True)\n",
        "    return out_df"
      ],
      "execution_count": null,
      "outputs": []
    },
    {
      "cell_type": "code",
      "metadata": {
        "id": "_uQQ_5u_n_rv"
      },
      "source": [
        "def get_kp_features():\n",
        "    out_df = pd.DataFrame(range(1, 65001), columns=['id'])\n",
        "    kplus = df_kplus.copy()\n",
        "\n",
        "    kp_sum = kplus.groupby(['id',]).sum().reset_index().rename({'kp_txn_amt': 'kp_amt_sum'}, axis=1)\n",
        "    kp_sum['kp_amt_avg_per_cnt'] = kp_sum['kp_amt_sum'] / kp_sum['kp_txn_count']\n",
        "\n",
        "    kp_mean = kplus.groupby(['id',]).mean().reset_index().rename({'kp_txn_amt': 'kp_amt_mean'}, axis=1)\n",
        "\n",
        "    kp_max = kplus.groupby(['id',]).max().reset_index().rename({'kp_txn_amt': 'kp_amt_max'}, axis=1)\n",
        "\n",
        "    kp_min = kplus.groupby(['id',]).min().reset_index().rename({'kp_txn_amt': 'kp_amt_min'}, axis=1)\n",
        "\n",
        "    kp_std = kplus.groupby(['id',]).std().reset_index().rename({'kp_txn_amt': 'kp_amt_std'}, axis=1)\n",
        "\n",
        "    feats = [kp_sum, kp_mean, kp_max, kp_min, kp_std]\n",
        "    for feat in feats:\n",
        "\n",
        "        if 'month' in feat.columns:\n",
        "            feat.drop('month', axis=1, inplace=True)\n",
        "\n",
        "        if 'sunday' in feat.columns:\n",
        "            feat.drop('sunday', axis=1, inplace=True)\n",
        "\n",
        "        if 'kp_txn_count' in feat.columns:\n",
        "            feat.drop('kp_txn_count', axis=1, inplace=True)\n",
        "\n",
        "        out_df = pd.merge(out_df, feat, on='id', how='outer')\n",
        "    out_df.fillna(0, inplace=True)\n",
        "    return out_df\n",
        "\n"
      ],
      "execution_count": null,
      "outputs": []
    },
    {
      "cell_type": "code",
      "metadata": {
        "id": "RoGutEKCn_vp"
      },
      "source": [
        "def get_weekend_features():\n",
        "    cc = df_cc.copy()\n",
        "    cc_no2id = {cc: id_ for cc, id_ in  zip(df_demographics['cc_no'], df_demographics['id'])}\n",
        "    cc['id'] = cc['cc_no'].map(cc_no2id)\n",
        "    cc.drop('cc_no', axis=1,inplace=True)\n",
        "    out_df = pd.DataFrame(range(1, 65001), columns=['id'])\n",
        "    cc['is_weekend'] = cc['pos_dt'].dt.dayofweek >=5\n",
        "    weekend_sum = cc.groupby(['id', 'is_weekend']).sum().reset_index()\n",
        "    weekend_mean = cc.groupby(['id', 'is_weekend']).mean().reset_index()\n",
        "    weekend_max = cc.groupby(['id', 'is_weekend']).max().reset_index()\n",
        "    weekend_std = cc.groupby(['id', 'is_weekend']).std().reset_index()\n",
        "    weekend_min = cc.groupby(['id', 'is_weekend']).min().reset_index()\n",
        "\n",
        "    feats = [weekend_sum, weekend_mean, weekend_max, weekend_std, weekend_min]\n",
        "    names = ['sum', 'mean', 'max', 'std', 'min']\n",
        "    for feat, name in zip(feats, names):\n",
        "        feat = (feat[feat['is_weekend']].rename({'cc_txn_amt': f'weekend_{name}'}, axis=1)\n",
        "                .drop('is_weekend', axis=1).reset_index(drop=True))\n",
        "        if 'pos_dt' in feat.columns:\n",
        "            feat.drop('pos_dt', axis=1, inplace=True)\n",
        "        out_df = pd.merge(out_df, feat, on='id', how='outer')\n",
        "    out_df.fillna(0, inplace=True)\n",
        "    return out_df"
      ],
      "execution_count": null,
      "outputs": []
    },
    {
      "cell_type": "markdown",
      "metadata": {
        "id": "hYTtDpzooHsG"
      },
      "source": [
        "# **Join Features**"
      ]
    },
    {
      "cell_type": "code",
      "metadata": {
        "id": "1KIfFymrn_1y"
      },
      "source": [
        "raw_feats = get_raw_features()\n",
        "fwotm_feats = get_fwotm_features().drop('id', axis=1)\n",
        "kp_feats = get_kp_features().drop('id', axis=1)\n",
        "weekend_feats = get_weekend_features().drop('id', axis=1)\n",
        "cc_feats = get_cc_features().drop('id', axis=1)"
      ],
      "execution_count": null,
      "outputs": []
    },
    {
      "cell_type": "code",
      "metadata": {
        "id": "2zU1e6edn_5B",
        "outputId": "e1a19705-5ade-4030-e400-4a5790bf4b55",
        "colab": {
          "base_uri": "https://localhost:8080/",
          "height": 250
        }
      },
      "source": [
        "features = [raw_feats, cc_feats, kp_feats, weekend_feats, fwotm_feats]\n",
        "\n",
        "for feat in features:\n",
        "    print(feat.shape)\n",
        "\n",
        "X = pd.concat(features, axis=1)\n",
        "# X.drop('id', axis=1,inplace=True)\n",
        "\n",
        "Xy = X.copy()\n",
        "# for col in ['gender', 'ocp_cd', 'age']:\n",
        "#     Xy[col] = Xy[col].astype('category')\n",
        "# Xy = pd.get_dummies(Xy)\n",
        "Xy['income'] = df_train['income']\n",
        "\n",
        "\n",
        "\n",
        "display(Xy.head(2))\n",
        "Xy.shape"
      ],
      "execution_count": null,
      "outputs": [
        {
          "output_type": "stream",
          "text": [
            "(65000, 4)\n",
            "(65000, 6)\n",
            "(65000, 6)\n",
            "(65000, 5)\n",
            "(65000, 12)\n"
          ],
          "name": "stdout"
        },
        {
          "output_type": "display_data",
          "data": {
            "text/html": [
              "<div>\n",
              "<style scoped>\n",
              "    .dataframe tbody tr th:only-of-type {\n",
              "        vertical-align: middle;\n",
              "    }\n",
              "\n",
              "    .dataframe tbody tr th {\n",
              "        vertical-align: top;\n",
              "    }\n",
              "\n",
              "    .dataframe thead th {\n",
              "        text-align: right;\n",
              "    }\n",
              "</style>\n",
              "<table border=\"1\" class=\"dataframe\">\n",
              "  <thead>\n",
              "    <tr style=\"text-align: right;\">\n",
              "      <th></th>\n",
              "      <th>id</th>\n",
              "      <th>gender</th>\n",
              "      <th>ocp_cd</th>\n",
              "      <th>age</th>\n",
              "      <th>cc_amt_sum</th>\n",
              "      <th>cc_cmt_avg_per_cnt</th>\n",
              "      <th>cc_amt_mean</th>\n",
              "      <th>cc_amt_max</th>\n",
              "      <th>cc_amt_min</th>\n",
              "      <th>cc_amt_std</th>\n",
              "      <th>kp_amt_sum</th>\n",
              "      <th>kp_amt_avg_per_cnt</th>\n",
              "      <th>kp_amt_mean</th>\n",
              "      <th>kp_amt_max</th>\n",
              "      <th>kp_amt_min</th>\n",
              "      <th>kp_amt_std</th>\n",
              "      <th>weekend_sum</th>\n",
              "      <th>weekend_mean</th>\n",
              "      <th>weekend_max</th>\n",
              "      <th>weekend_std</th>\n",
              "      <th>weekend_min</th>\n",
              "      <th>kp_cnt_2018-01-07</th>\n",
              "      <th>kplus_amt_2018-01-07</th>\n",
              "      <th>kp_cnt_2018-02-04</th>\n",
              "      <th>kplus_amt_2018-02-04</th>\n",
              "      <th>kp_cnt_2018-03-04</th>\n",
              "      <th>kplus_amt_2018-03-04</th>\n",
              "      <th>kp_cnt_2018-04-01</th>\n",
              "      <th>kplus_amt_2018-04-01</th>\n",
              "      <th>kp_cnt_2018-05-06</th>\n",
              "      <th>kplus_amt_2018-05-06</th>\n",
              "      <th>kp_cnt_2018-06-03</th>\n",
              "      <th>kplus_amt_2018-06-03</th>\n",
              "      <th>income</th>\n",
              "    </tr>\n",
              "  </thead>\n",
              "  <tbody>\n",
              "    <tr>\n",
              "      <th>0</th>\n",
              "      <td>1</td>\n",
              "      <td>2</td>\n",
              "      <td>9.0</td>\n",
              "      <td>5</td>\n",
              "      <td>44700.0</td>\n",
              "      <td>8940.000000</td>\n",
              "      <td>8940.000000</td>\n",
              "      <td>10000.0</td>\n",
              "      <td>4700.0</td>\n",
              "      <td>2370.232056</td>\n",
              "      <td>3500.0</td>\n",
              "      <td>1750.000000</td>\n",
              "      <td>1750.0</td>\n",
              "      <td>2000.0</td>\n",
              "      <td>1500.0</td>\n",
              "      <td>353.553391</td>\n",
              "      <td>34700.0</td>\n",
              "      <td>8675.000000</td>\n",
              "      <td>10000.0</td>\n",
              "      <td>2650.000000</td>\n",
              "      <td>4700.0</td>\n",
              "      <td>0.0</td>\n",
              "      <td>0.0</td>\n",
              "      <td>0.0</td>\n",
              "      <td>0.0</td>\n",
              "      <td>0.0</td>\n",
              "      <td>0.0</td>\n",
              "      <td>0.0</td>\n",
              "      <td>0.0</td>\n",
              "      <td>0.0</td>\n",
              "      <td>0.0</td>\n",
              "      <td>1.0</td>\n",
              "      <td>1500.0</td>\n",
              "      <td>20000.0</td>\n",
              "    </tr>\n",
              "    <tr>\n",
              "      <th>1</th>\n",
              "      <td>2</td>\n",
              "      <td>2</td>\n",
              "      <td>3.0</td>\n",
              "      <td>4</td>\n",
              "      <td>65200.0</td>\n",
              "      <td>1552.380952</td>\n",
              "      <td>1552.380952</td>\n",
              "      <td>14700.0</td>\n",
              "      <td>400.0</td>\n",
              "      <td>2235.112055</td>\n",
              "      <td>210000.0</td>\n",
              "      <td>2019.230769</td>\n",
              "      <td>8400.0</td>\n",
              "      <td>40300.0</td>\n",
              "      <td>100.0</td>\n",
              "      <td>11253.554994</td>\n",
              "      <td>28200.0</td>\n",
              "      <td>1226.086957</td>\n",
              "      <td>4000.0</td>\n",
              "      <td>885.857259</td>\n",
              "      <td>500.0</td>\n",
              "      <td>2.0</td>\n",
              "      <td>600.0</td>\n",
              "      <td>4.0</td>\n",
              "      <td>13700.0</td>\n",
              "      <td>10.0</td>\n",
              "      <td>19500.0</td>\n",
              "      <td>9.0</td>\n",
              "      <td>24200.0</td>\n",
              "      <td>8.0</td>\n",
              "      <td>20600.0</td>\n",
              "      <td>9.0</td>\n",
              "      <td>27700.0</td>\n",
              "      <td>106000.0</td>\n",
              "    </tr>\n",
              "  </tbody>\n",
              "</table>\n",
              "</div>"
            ],
            "text/plain": [
              "   id  gender  ocp_cd  ...  kp_cnt_2018-06-03  kplus_amt_2018-06-03    income\n",
              "0   1       2     9.0  ...                1.0                1500.0   20000.0\n",
              "1   2       2     3.0  ...                9.0               27700.0  106000.0\n",
              "\n",
              "[2 rows x 34 columns]"
            ]
          },
          "metadata": {
            "tags": []
          }
        },
        {
          "output_type": "execute_result",
          "data": {
            "text/plain": [
              "(65000, 34)"
            ]
          },
          "metadata": {
            "tags": []
          },
          "execution_count": 18
        }
      ]
    },
    {
      "cell_type": "code",
      "metadata": {
        "id": "fEUXYyN1n_8n",
        "outputId": "643c4d9b-020b-49a3-f917-7ee8a436d37c",
        "colab": {
          "base_uri": "https://localhost:8080/",
          "height": 68
        }
      },
      "source": [
        "X_train = Xy.iloc[:47000, :-1]\n",
        "y_train = Xy.iloc[:47000, -1].values\n",
        "\n",
        "\n",
        "X_valid = Xy.iloc[47000:50000, :-1]\n",
        "y_valid = Xy.iloc[47000:50000, -1].values\n",
        "\n",
        "X_test = Xy.iloc[50000:, :-1]\n",
        "\n",
        "# normalize\n",
        "std_scale = StandardScaler().fit(X_train)\n",
        "X_train_norm = std_scale.transform(X_train)\n",
        "X_valid_norm = std_scale.transform(X_valid)\n",
        "X_test_norm = std_scale.transform(X_test)\n",
        "\n",
        "print('train:',  X_train.shape, y_train.shape)\n",
        "print('valid:',  X_valid.shape, y_valid.shape)\n",
        "print('test:', X_test.shape)"
      ],
      "execution_count": null,
      "outputs": [
        {
          "output_type": "stream",
          "text": [
            "train: (47000, 33) (47000,)\n",
            "valid: (3000, 33) (3000,)\n",
            "test: (15000, 33)\n"
          ],
          "name": "stdout"
        }
      ]
    },
    {
      "cell_type": "code",
      "metadata": {
        "id": "laPFqn3coAHh"
      },
      "source": [
        "def cal_score(X, y_true, model):\n",
        "    y_predict = model.predict(X)\n",
        "    upper = np.square(y_predict - y_true)\n",
        "    lower = np.square(np.minimum(2 * np.abs(y_true), np.abs(y_predict)) + np.abs(y_true))\n",
        "    score = 100 - 100 *np.mean(upper/ lower)\n",
        "    return score\n",
        "\n",
        "def cal_score_y(y_predict, y_true):\n",
        "    upper = np.square(y_predict - y_true)\n",
        "    lower = np.square(np.minimum(2 * np.abs(y_true), np.abs(y_predict)) + np.abs(y_true))\n",
        "    score = 100 - 100 *np.mean(upper/ lower)\n",
        "    return score\n",
        "\n",
        "def print_score(model, norm, features):\n",
        "    if norm:\n",
        "        train_score = cal_score(X_train_norm, y_train, model)\n",
        "        valid_score = cal_score(X_valid_norm, y_valid, model)\n",
        "    else:\n",
        "        train_score = cal_score(X_train.loc[:, features], y_train, model)\n",
        "        valid_score = cal_score(X_valid.loc[:, features], y_valid, model)\n",
        "    return [train_score, valid_score]"
      ],
      "execution_count": null,
      "outputs": []
    },
    {
      "cell_type": "markdown",
      "metadata": {
        "id": "uu_YOMgDoRx1"
      },
      "source": [
        "# **XGBoost**"
      ]
    },
    {
      "cell_type": "code",
      "metadata": {
        "id": "eRvOMx9Kn_zb",
        "outputId": "f9d4ad15-d57a-43e8-b1f2-23dd874b2cd4",
        "colab": {
          "base_uri": "https://localhost:8080/",
          "height": 34
        }
      },
      "source": [
        "model = XGBRegressor(objective='reg:squarederror', colsample_bytree=0.5, learning_rate=0.1,\n",
        "                        max_depth=6, n_estimators=10)\n",
        "\n",
        "model.fit(X_train, y_train)\n",
        "\n",
        "cal_score(X_valid, y_valid, model=model)"
      ],
      "execution_count": null,
      "outputs": [
        {
          "output_type": "execute_result",
          "data": {
            "text/plain": [
              "91.07069544344918"
            ]
          },
          "metadata": {
            "tags": []
          },
          "execution_count": 21
        }
      ]
    },
    {
      "cell_type": "code",
      "metadata": {
        "id": "ijUJ6xvboTUj",
        "outputId": "733219da-0ad7-4b8c-f864-e36113e2424e",
        "colab": {
          "base_uri": "https://localhost:8080/",
          "height": 1000
        }
      },
      "source": [
        "g = pd.DataFrame({'importance': model.feature_importances_ * 100 , 'feature_name': X_train.columns}).sort_values('importance', ascending=False)\n",
        "g"
      ],
      "execution_count": null,
      "outputs": [
        {
          "output_type": "execute_result",
          "data": {
            "text/html": [
              "<div>\n",
              "<style scoped>\n",
              "    .dataframe tbody tr th:only-of-type {\n",
              "        vertical-align: middle;\n",
              "    }\n",
              "\n",
              "    .dataframe tbody tr th {\n",
              "        vertical-align: top;\n",
              "    }\n",
              "\n",
              "    .dataframe thead th {\n",
              "        text-align: right;\n",
              "    }\n",
              "</style>\n",
              "<table border=\"1\" class=\"dataframe\">\n",
              "  <thead>\n",
              "    <tr style=\"text-align: right;\">\n",
              "      <th></th>\n",
              "      <th>importance</th>\n",
              "      <th>feature_name</th>\n",
              "    </tr>\n",
              "  </thead>\n",
              "  <tbody>\n",
              "    <tr>\n",
              "      <th>4</th>\n",
              "      <td>17.059057</td>\n",
              "      <td>cc_amt_sum</td>\n",
              "    </tr>\n",
              "    <tr>\n",
              "      <th>11</th>\n",
              "      <td>15.133004</td>\n",
              "      <td>kp_amt_avg_per_cnt</td>\n",
              "    </tr>\n",
              "    <tr>\n",
              "      <th>12</th>\n",
              "      <td>6.854584</td>\n",
              "      <td>kp_amt_mean</td>\n",
              "    </tr>\n",
              "    <tr>\n",
              "      <th>3</th>\n",
              "      <td>6.331244</td>\n",
              "      <td>age</td>\n",
              "    </tr>\n",
              "    <tr>\n",
              "      <th>13</th>\n",
              "      <td>6.301998</td>\n",
              "      <td>kp_amt_max</td>\n",
              "    </tr>\n",
              "    <tr>\n",
              "      <th>16</th>\n",
              "      <td>5.140284</td>\n",
              "      <td>weekend_sum</td>\n",
              "    </tr>\n",
              "    <tr>\n",
              "      <th>7</th>\n",
              "      <td>4.425973</td>\n",
              "      <td>cc_amt_max</td>\n",
              "    </tr>\n",
              "    <tr>\n",
              "      <th>15</th>\n",
              "      <td>3.479576</td>\n",
              "      <td>kp_amt_std</td>\n",
              "    </tr>\n",
              "    <tr>\n",
              "      <th>19</th>\n",
              "      <td>3.052790</td>\n",
              "      <td>weekend_std</td>\n",
              "    </tr>\n",
              "    <tr>\n",
              "      <th>9</th>\n",
              "      <td>3.015790</td>\n",
              "      <td>cc_amt_std</td>\n",
              "    </tr>\n",
              "    <tr>\n",
              "      <th>10</th>\n",
              "      <td>2.774404</td>\n",
              "      <td>kp_amt_sum</td>\n",
              "    </tr>\n",
              "    <tr>\n",
              "      <th>1</th>\n",
              "      <td>2.679330</td>\n",
              "      <td>gender</td>\n",
              "    </tr>\n",
              "    <tr>\n",
              "      <th>30</th>\n",
              "      <td>2.039984</td>\n",
              "      <td>kplus_amt_2018-05-06</td>\n",
              "    </tr>\n",
              "    <tr>\n",
              "      <th>2</th>\n",
              "      <td>2.038565</td>\n",
              "      <td>ocp_cd</td>\n",
              "    </tr>\n",
              "    <tr>\n",
              "      <th>25</th>\n",
              "      <td>1.681384</td>\n",
              "      <td>kp_cnt_2018-03-04</td>\n",
              "    </tr>\n",
              "    <tr>\n",
              "      <th>23</th>\n",
              "      <td>1.644007</td>\n",
              "      <td>kp_cnt_2018-02-04</td>\n",
              "    </tr>\n",
              "    <tr>\n",
              "      <th>28</th>\n",
              "      <td>1.417522</td>\n",
              "      <td>kplus_amt_2018-04-01</td>\n",
              "    </tr>\n",
              "    <tr>\n",
              "      <th>29</th>\n",
              "      <td>1.314473</td>\n",
              "      <td>kp_cnt_2018-05-06</td>\n",
              "    </tr>\n",
              "    <tr>\n",
              "      <th>8</th>\n",
              "      <td>1.306093</td>\n",
              "      <td>cc_amt_min</td>\n",
              "    </tr>\n",
              "    <tr>\n",
              "      <th>21</th>\n",
              "      <td>1.204223</td>\n",
              "      <td>kp_cnt_2018-01-07</td>\n",
              "    </tr>\n",
              "    <tr>\n",
              "      <th>31</th>\n",
              "      <td>1.086065</td>\n",
              "      <td>kp_cnt_2018-06-03</td>\n",
              "    </tr>\n",
              "    <tr>\n",
              "      <th>32</th>\n",
              "      <td>1.040059</td>\n",
              "      <td>kplus_amt_2018-06-03</td>\n",
              "    </tr>\n",
              "    <tr>\n",
              "      <th>27</th>\n",
              "      <td>0.993192</td>\n",
              "      <td>kp_cnt_2018-04-01</td>\n",
              "    </tr>\n",
              "    <tr>\n",
              "      <th>5</th>\n",
              "      <td>0.990566</td>\n",
              "      <td>cc_cmt_avg_per_cnt</td>\n",
              "    </tr>\n",
              "    <tr>\n",
              "      <th>18</th>\n",
              "      <td>0.985545</td>\n",
              "      <td>weekend_max</td>\n",
              "    </tr>\n",
              "    <tr>\n",
              "      <th>14</th>\n",
              "      <td>0.958397</td>\n",
              "      <td>kp_amt_min</td>\n",
              "    </tr>\n",
              "    <tr>\n",
              "      <th>24</th>\n",
              "      <td>0.940525</td>\n",
              "      <td>kplus_amt_2018-02-04</td>\n",
              "    </tr>\n",
              "    <tr>\n",
              "      <th>22</th>\n",
              "      <td>0.896021</td>\n",
              "      <td>kplus_amt_2018-01-07</td>\n",
              "    </tr>\n",
              "    <tr>\n",
              "      <th>26</th>\n",
              "      <td>0.826766</td>\n",
              "      <td>kplus_amt_2018-03-04</td>\n",
              "    </tr>\n",
              "    <tr>\n",
              "      <th>17</th>\n",
              "      <td>0.672205</td>\n",
              "      <td>weekend_mean</td>\n",
              "    </tr>\n",
              "    <tr>\n",
              "      <th>0</th>\n",
              "      <td>0.619190</td>\n",
              "      <td>id</td>\n",
              "    </tr>\n",
              "    <tr>\n",
              "      <th>6</th>\n",
              "      <td>0.576912</td>\n",
              "      <td>cc_amt_mean</td>\n",
              "    </tr>\n",
              "    <tr>\n",
              "      <th>20</th>\n",
              "      <td>0.520284</td>\n",
              "      <td>weekend_min</td>\n",
              "    </tr>\n",
              "  </tbody>\n",
              "</table>\n",
              "</div>"
            ],
            "text/plain": [
              "    importance          feature_name\n",
              "4    17.059057            cc_amt_sum\n",
              "11   15.133004    kp_amt_avg_per_cnt\n",
              "12    6.854584           kp_amt_mean\n",
              "3     6.331244                   age\n",
              "13    6.301998            kp_amt_max\n",
              "16    5.140284           weekend_sum\n",
              "7     4.425973            cc_amt_max\n",
              "15    3.479576            kp_amt_std\n",
              "19    3.052790           weekend_std\n",
              "9     3.015790            cc_amt_std\n",
              "10    2.774404            kp_amt_sum\n",
              "1     2.679330                gender\n",
              "30    2.039984  kplus_amt_2018-05-06\n",
              "2     2.038565                ocp_cd\n",
              "25    1.681384     kp_cnt_2018-03-04\n",
              "23    1.644007     kp_cnt_2018-02-04\n",
              "28    1.417522  kplus_amt_2018-04-01\n",
              "29    1.314473     kp_cnt_2018-05-06\n",
              "8     1.306093            cc_amt_min\n",
              "21    1.204223     kp_cnt_2018-01-07\n",
              "31    1.086065     kp_cnt_2018-06-03\n",
              "32    1.040059  kplus_amt_2018-06-03\n",
              "27    0.993192     kp_cnt_2018-04-01\n",
              "5     0.990566    cc_cmt_avg_per_cnt\n",
              "18    0.985545           weekend_max\n",
              "14    0.958397            kp_amt_min\n",
              "24    0.940525  kplus_amt_2018-02-04\n",
              "22    0.896021  kplus_amt_2018-01-07\n",
              "26    0.826766  kplus_amt_2018-03-04\n",
              "17    0.672205          weekend_mean\n",
              "0     0.619190                    id\n",
              "6     0.576912           cc_amt_mean\n",
              "20    0.520284           weekend_min"
            ]
          },
          "metadata": {
            "tags": []
          },
          "execution_count": 22
        }
      ]
    },
    {
      "cell_type": "markdown",
      "metadata": {
        "id": "qNTbBEmOob11"
      },
      "source": [
        "# **Predict Data**"
      ]
    },
    {
      "cell_type": "code",
      "metadata": {
        "id": "PE_g3zdRoTeI"
      },
      "source": [
        "submission = df_test.copy()\n",
        "submission['income'] = model.predict(X_test)"
      ],
      "execution_count": null,
      "outputs": []
    },
    {
      "cell_type": "code",
      "metadata": {
        "id": "NODKSZGcoTqC",
        "outputId": "39ca4f55-8beb-46ab-8c0e-70f589d16b58",
        "colab": {
          "base_uri": "https://localhost:8080/",
          "height": 419
        }
      },
      "source": [
        "submission"
      ],
      "execution_count": null,
      "outputs": [
        {
          "output_type": "execute_result",
          "data": {
            "text/html": [
              "<div>\n",
              "<style scoped>\n",
              "    .dataframe tbody tr th:only-of-type {\n",
              "        vertical-align: middle;\n",
              "    }\n",
              "\n",
              "    .dataframe tbody tr th {\n",
              "        vertical-align: top;\n",
              "    }\n",
              "\n",
              "    .dataframe thead th {\n",
              "        text-align: right;\n",
              "    }\n",
              "</style>\n",
              "<table border=\"1\" class=\"dataframe\">\n",
              "  <thead>\n",
              "    <tr style=\"text-align: right;\">\n",
              "      <th></th>\n",
              "      <th>id</th>\n",
              "      <th>income</th>\n",
              "    </tr>\n",
              "  </thead>\n",
              "  <tbody>\n",
              "    <tr>\n",
              "      <th>0</th>\n",
              "      <td>50001</td>\n",
              "      <td>20550.621094</td>\n",
              "    </tr>\n",
              "    <tr>\n",
              "      <th>1</th>\n",
              "      <td>50002</td>\n",
              "      <td>19227.238281</td>\n",
              "    </tr>\n",
              "    <tr>\n",
              "      <th>2</th>\n",
              "      <td>50003</td>\n",
              "      <td>23266.345703</td>\n",
              "    </tr>\n",
              "    <tr>\n",
              "      <th>3</th>\n",
              "      <td>50004</td>\n",
              "      <td>20409.794922</td>\n",
              "    </tr>\n",
              "    <tr>\n",
              "      <th>4</th>\n",
              "      <td>50005</td>\n",
              "      <td>26100.302734</td>\n",
              "    </tr>\n",
              "    <tr>\n",
              "      <th>...</th>\n",
              "      <td>...</td>\n",
              "      <td>...</td>\n",
              "    </tr>\n",
              "    <tr>\n",
              "      <th>14995</th>\n",
              "      <td>64996</td>\n",
              "      <td>17833.652344</td>\n",
              "    </tr>\n",
              "    <tr>\n",
              "      <th>14996</th>\n",
              "      <td>64997</td>\n",
              "      <td>19844.226562</td>\n",
              "    </tr>\n",
              "    <tr>\n",
              "      <th>14997</th>\n",
              "      <td>64998</td>\n",
              "      <td>19951.867188</td>\n",
              "    </tr>\n",
              "    <tr>\n",
              "      <th>14998</th>\n",
              "      <td>64999</td>\n",
              "      <td>26938.722656</td>\n",
              "    </tr>\n",
              "    <tr>\n",
              "      <th>14999</th>\n",
              "      <td>65000</td>\n",
              "      <td>17657.544922</td>\n",
              "    </tr>\n",
              "  </tbody>\n",
              "</table>\n",
              "<p>15000 rows × 2 columns</p>\n",
              "</div>"
            ],
            "text/plain": [
              "          id        income\n",
              "0      50001  20550.621094\n",
              "1      50002  19227.238281\n",
              "2      50003  23266.345703\n",
              "3      50004  20409.794922\n",
              "4      50005  26100.302734\n",
              "...      ...           ...\n",
              "14995  64996  17833.652344\n",
              "14996  64997  19844.226562\n",
              "14997  64998  19951.867188\n",
              "14998  64999  26938.722656\n",
              "14999  65000  17657.544922\n",
              "\n",
              "[15000 rows x 2 columns]"
            ]
          },
          "metadata": {
            "tags": []
          },
          "execution_count": 24
        }
      ]
    },
    {
      "cell_type": "markdown",
      "metadata": {
        "id": "iwQ-c3i5ojPO"
      },
      "source": [
        "# **Export Data**"
      ]
    },
    {
      "cell_type": "code",
      "metadata": {
        "id": "kDSGW5ZUoTbY"
      },
      "source": [
        "# submission.to_csv('/content/drive/My Drive/work/kbank/predict.csv', index=False)"
      ],
      "execution_count": null,
      "outputs": []
    }
  ]
}